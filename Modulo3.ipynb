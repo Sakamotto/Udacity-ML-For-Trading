{
 "cells": [
  {
   "cell_type": "code",
   "execution_count": 1,
   "metadata": {
    "collapsed": true
   },
   "outputs": [],
   "source": [
    "import pandas as pd"
   ]
  },
  {
   "cell_type": "code",
   "execution_count": 2,
   "metadata": {},
   "outputs": [
    {
     "name": "stdout",
     "output_type": "stream",
     "text": [
      "            Adj Close\n",
      "2010-01-22  95.682624\n",
      "2010-01-25  96.173257\n",
      "2010-01-26  95.770236\n"
     ]
    }
   ],
   "source": [
    "def test_run():\n",
    "    start_date = '2010-01-22'\n",
    "    end_date = '2010-01-26'\n",
    "    dates = pd.date_range(start_date, end_date)\n",
    "    # criando um DataFrame vazio\n",
    "    df1 = pd.DataFrame(index=dates)\n",
    "    dfSPY = pd.read_csv(\"data/SPY.csv\", index_col=\"Date\", parse_dates=True, usecols=['Date', 'Adj Close'])\n",
    "    df1 = df1.join(dfSPY, how='inner')\n",
    "    print(df1)\n",
    "    #print(dfSPY.head())\n",
    "#\n",
    "test_run()"
   ]
  },
  {
   "cell_type": "code",
   "execution_count": 7,
   "metadata": {},
   "outputs": [
    {
     "name": "stdout",
     "output_type": "stream",
     "text": [
      "               SPY    GOOG     IBM     GLD\n",
      "2010-01-22  104.34  550.01  119.61  107.17\n",
      "2010-01-25  104.87  540.00  120.20  107.48\n",
      "2010-01-26  104.43  542.42  119.85  107.56\n"
     ]
    }
   ],
   "source": [
    "start_date = '2010-01-22'\n",
    "end_date = '2010-01-26'\n",
    "dates = pd.date_range(start_date, end_date)\n",
    "\n",
    "# criando um DataFrame vazio\n",
    "df1 = pd.DataFrame(index=dates)\n",
    "\n",
    "dfSPY = pd.read_csv(\"data/SPY.csv\", index_col=\"Date\", parse_dates=True, usecols=['Date', 'Adj Close'])\n",
    "dfSPY = dfSPY.rename(columns={'Adj Close': 'SPY'})\n",
    "\n",
    "df1 = df1.join(dfSPY, how='inner')\n",
    "\n",
    "# read in more stocks\n",
    "symbols = ['GOOG', 'IBM', 'GLD']\n",
    "\n",
    "for symbol in symbols:\n",
    "    df_temp = pd.read_csv(\"data/{}.csv\".format(symbol), index_col=\"Date\", parse_dates=True, usecols=['Date', 'Adj Close'])\n",
    "    df_temp = df_temp.rename(columns={'Adj Close': symbol})\n",
    "    df1 = df1.join(df_temp)\n",
    "#\n",
    "\n",
    "print(df1)"
   ]
  },
  {
   "cell_type": "code",
   "execution_count": 10,
   "metadata": {},
   "outputs": [
    {
     "name": "stdout",
     "output_type": "stream",
     "text": [
      "               SPY    GOOG     IBM     GLD\n",
      "2010-01-22  104.34  550.01  119.61  107.17\n",
      "2010-01-25  104.87  540.00  120.20  107.48\n",
      "2010-01-26  104.43  542.42  119.85  107.56\n"
     ]
    }
   ],
   "source": [
    "\"\"\"Utility functions\"\"\"\n",
    "\n",
    "import os\n",
    "import pandas as pd\n",
    "\n",
    "def symbol_to_path(symbol, base_dir=\"data\"):\n",
    "    \"\"\"Return CSV file path given ticker symbol.\"\"\"\n",
    "    return os.path.join(base_dir, \"{}.csv\".format(str(symbol)))\n",
    "\n",
    "def get_data(symbols, dates):\n",
    "    \"\"\"Read stock data (adjusted close) for given symbols from CSV files.\"\"\"\n",
    "    df = pd.DataFrame(index=dates) # create a new empty DataFrame\n",
    "    if 'SPY' not in symbols:  # add SPY for reference, if absent\n",
    "        symbols.insert(0, 'SPY')\n",
    "\n",
    "    for symbol in symbols:\n",
    "        # TODO: Read and join data for each symbol\n",
    "        df_temp = pd.read_csv(symbol_to_path(symbol), index_col=\"Date\", parse_dates=True, usecols=['Date', 'Adj Close'])\n",
    "        df_temp = df_temp.rename(columns={'Adj Close': symbol})\n",
    "        df = df.join(df_temp, how='inner')\n",
    "        \"\"\" or \"\"\"\n",
    "        #if symbol == 'SPY':\n",
    "        #    df.dropna(subset=[\"SPY\"])\n",
    "        #\n",
    "\n",
    "    return df\n",
    "#\n",
    "\n",
    "def test():\n",
    "    # Define a date range\n",
    "    dates = pd.date_range('2010-01-22', '2010-01-26')\n",
    "\n",
    "    # Choose stock symbols to read\n",
    "    symbols = ['GOOG', 'IBM', 'GLD']\n",
    "    \n",
    "    # Get stock data\n",
    "    df = get_data(symbols, dates)\n",
    "    print(df)\n",
    "#\n",
    "test()"
   ]
  },
  {
   "cell_type": "code",
   "execution_count": null,
   "metadata": {
    "collapsed": true
   },
   "outputs": [],
   "source": []
  }
 ],
 "metadata": {
  "kernelspec": {
   "display_name": "Python 3",
   "language": "python",
   "name": "python3"
  },
  "language_info": {
   "codemirror_mode": {
    "name": "ipython",
    "version": 3
   },
   "file_extension": ".py",
   "mimetype": "text/x-python",
   "name": "python",
   "nbconvert_exporter": "python",
   "pygments_lexer": "ipython3",
   "version": "3.6.1"
  }
 },
 "nbformat": 4,
 "nbformat_minor": 2
}
